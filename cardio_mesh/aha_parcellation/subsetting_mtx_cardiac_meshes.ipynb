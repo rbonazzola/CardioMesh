{
 "cells": [
  {
   "cell_type": "code",
   "execution_count": null,
   "id": "0",
   "metadata": {},
   "outputs": [],
   "source": [
    "from CardioMesh import CardiacMesh\n",
    "import numpy as np\n",
    "from scipy.sparse.csc import csc_matrix\n",
    "import pickle as pkl"
   ]
  },
  {
   "cell_type": "code",
   "execution_count": null,
   "id": "1",
   "metadata": {},
   "outputs": [],
   "source": [
    "len(list(range(mesh.v.shape[0])))"
   ]
  },
  {
   "cell_type": "code",
   "execution_count": null,
   "id": "2",
   "metadata": {},
   "outputs": [],
   "source": [
    "mesh = CardiacMesh.Cardiac3DMesh(\"mean_shape.vtk\")\n",
    "mask_for_lv = np.array([int(x == 'LV') for x in mesh.subpartID])\n",
    "sum(mask_for_lv)"
   ]
  },
  {
   "cell_type": "code",
   "execution_count": null,
   "id": "3",
   "metadata": {},
   "outputs": [],
   "source": [
    "PARTITION = \"LV\"\n",
    "col_ind = [i for i, x in enumerate(mesh.subpartID) if x == PARTITION]\n",
    "row_ind = list(range(len(col_ind)))"
   ]
  },
  {
   "cell_type": "code",
   "execution_count": null,
   "id": "4",
   "metadata": {},
   "outputs": [],
   "source": [
    "subsetting_mtx = csc_matrix(\n",
    "    (np.ones(len(col_ind)), (row_ind, col_ind)), \n",
    "    shape=(len(col_ind), mesh.v.shape[0])\n",
    ")"
   ]
  },
  {
   "cell_type": "code",
   "execution_count": null,
   "id": "5",
   "metadata": {},
   "outputs": [],
   "source": [
    "dd = pkl.load(open(\"CardioMesh/data/faces_and_downsampling_mtx_frac_0.1_LV.pkl\", \"rb\"))"
   ]
  },
  {
   "cell_type": "code",
   "execution_count": null,
   "id": "6",
   "metadata": {},
   "outputs": [],
   "source": [
    "(dd[\"mtx\"] * subsetting_mtx * mesh.v).shape"
   ]
  },
  {
   "cell_type": "code",
   "execution_count": null,
   "id": "7",
   "metadata": {},
   "outputs": [],
   "source": [
    "dd['new_faces'].shape"
   ]
  },
  {
   "cell_type": "code",
   "execution_count": null,
   "id": "8",
   "metadata": {},
   "outputs": [],
   "source": [
    "import pyvista as pv"
   ]
  },
  {
   "cell_type": "code",
   "execution_count": null,
   "id": "9",
   "metadata": {},
   "outputs": [],
   "source": [
    "faces_pv = np.concatenate((\n",
    "    3*np.ones((dd['new_faces'].shape[0],1)).astype(int), \n",
    "    dd['new_faces']), \n",
    "    axis=1\n",
    ")\n",
    "\n",
    "plotter = pv.Plotter()\n",
    "mesh_pv = pv.PolyData(dd[\"mtx\"] * subsetting_mtx * mesh.v, faces_pv)\n",
    "plotter.add_mesh(mesh_pv, opacity=0.5)\n",
    "plotter.show()"
   ]
  },
  {
   "cell_type": "code",
   "execution_count": null,
   "id": "10",
   "metadata": {},
   "outputs": [],
   "source": []
  }
 ],
 "metadata": {
  "kernelspec": {
   "display_name": "Python 3 (ipykernel)",
   "language": "python",
   "name": "python3"
  },
  "language_info": {
   "codemirror_mode": {
    "name": "ipython",
    "version": 3
   },
   "file_extension": ".py",
   "mimetype": "text/x-python",
   "name": "python",
   "nbconvert_exporter": "python",
   "pygments_lexer": "ipython3",
   "version": "3.9.12"
  }
 },
 "nbformat": 4,
 "nbformat_minor": 5
}
