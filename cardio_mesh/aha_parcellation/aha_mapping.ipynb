{
 "cells": [
  {
   "cell_type": "code",
   "execution_count": null,
   "id": "0",
   "metadata": {},
   "outputs": [],
   "source": [
    "import numpy as np \n",
    "import pandas as pd\n",
    "import pickle as pkl\n",
    "import meshio\n",
    "import torch\n",
    "from tqdm import tqdm\n",
    "from CardioMesh.CardiacMesh import Cardiac3DMesh"
   ]
  },
  {
   "cell_type": "code",
   "execution_count": null,
   "id": "1",
   "metadata": {},
   "outputs": [],
   "source": [
    "def read_point_cloud_from_obj(obj_file):\n",
    "    with open(obj_file, 'r') as file:\n",
    "        lines = file.readlines()\n",
    "\n",
    "    points = []\n",
    "    for line in lines:\n",
    "        if line.startswith('v '):\n",
    "            # Split the line and extract the x, y, and z coordinates\n",
    "            parts = line.split()\n",
    "            x = float(parts[1])\n",
    "            y = float(parts[2])\n",
    "            z = float(parts[3])\n",
    "            points.append((x, y, z))\n",
    "\n",
    "    return points"
   ]
  },
  {
   "cell_type": "code",
   "execution_count": null,
   "id": "2",
   "metadata": {},
   "outputs": [],
   "source": [
    "# Usage\n",
    "mine_file = 'final_target_2.obj'\n",
    "my_atlas = read_point_cloud_from_obj(mine_file)\n",
    "my_atlas = np.array(my_atlas)\n",
    "\n",
    "center = my_atlas.mean(0)\n",
    "scale = max(torch.Tensor(my_atlas).abs().max(0)[0])\n",
    "my_atlas = my_atlas - center\n",
    "my_atlas = my_atlas / scale\n",
    "\n",
    "# print(my_atlas.shape)\n",
    "print(my_atlas)"
   ]
  },
  {
   "cell_type": "code",
   "execution_count": null,
   "id": "3",
   "metadata": {},
   "outputs": [],
   "source": [
    "wenjia_verts = np.load(\"mallas/lv_source_verts.npy\", allow_pickle=True)\n",
    "center = wenjia_verts.mean(0)\n",
    "scale = max(torch.Tensor(wenjia_verts).abs().max(0)[0])\n",
    "wenjia_verts = wenjia_verts - center\n",
    "wenjia_verts = wenjia_verts / scale\n",
    "wenjia_verts"
   ]
  },
  {
   "cell_type": "code",
   "execution_count": null,
   "id": "4",
   "metadata": {},
   "outputs": [],
   "source": [
    "# myo = Cardiac3DMesh(\"/home/rodrigo/01_repos/CardioMesh/data/template/myo_ED_AHA17.vtk\")\n",
    "# aha_mapping = {}\n",
    "# for i, row in pd.DataFrame(myo.subpartID).iterrows():\n",
    "#     aha_mapping[i] = row[0]\n",
    "# pkl.dump(aha_mapping, open(\"aha_mapping.pkl\", \"wb\"))\n",
    "aha_mapping = pkl.load(open(\"aha_mapping.pkl\", \"rb\"))"
   ]
  },
  {
   "cell_type": "code",
   "execution_count": null,
   "id": "5",
   "metadata": {},
   "outputs": [],
   "source": [
    "mapping = {}\n",
    "for i, p in tqdm(enumerate(my_atlas)):    \n",
    "    j = ((wenjia_verts - p)**2).sum(1).argmin().numpy()\n",
    "    # print(j)\n",
    "    mapping[i] = aha_mapping[int(j)]"
   ]
  },
  {
   "cell_type": "code",
   "execution_count": null,
   "id": "6",
   "metadata": {
    "tags": []
   },
   "outputs": [],
   "source": [
    "verts = np.load(\"/home/rodrigo/02_jpy_drafts/mallas/lv_target_verts.npy\", allow_pickle=True)\n",
    "faces = np.load(\"/home/rodrigo/02_jpy_drafts/mallas/lv_target_faces.npy\", allow_pickle=True)"
   ]
  },
  {
   "cell_type": "code",
   "execution_count": null,
   "id": "7",
   "metadata": {},
   "outputs": [],
   "source": [
    "meshio.write_points_cells(\n",
    "  \"myatlas_with_aha.vtk\",\n",
    "  verts,\n",
    "  cells={\"triangle\": faces},\n",
    "  point_data={\"subpartID\": [mapping[i] for i in range(len(mapping)) ]},\n",
    ")"
   ]
  }
 ],
 "metadata": {
  "kernelspec": {
   "display_name": "Python 3 (ipykernel)",
   "language": "python",
   "name": "python3"
  },
  "language_info": {
   "codemirror_mode": {
    "name": "ipython",
    "version": 3
   },
   "file_extension": ".py",
   "mimetype": "text/x-python",
   "name": "python",
   "nbconvert_exporter": "python",
   "pygments_lexer": "ipython3",
   "version": "3.9.12"
  }
 },
 "nbformat": 4,
 "nbformat_minor": 5
}
